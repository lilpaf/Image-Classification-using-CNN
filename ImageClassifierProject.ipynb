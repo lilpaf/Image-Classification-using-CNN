{
 "cells": [
  {
   "cell_type": "markdown",
   "id": "d1cdac66-2566-4f51-a567-391735543e44",
   "metadata": {},
   "source": [
    "# Load libraries"
   ]
  },
  {
   "cell_type": "code",
   "execution_count": 3,
   "id": "343d6566-6f7a-425f-9344-d1ade00f95e0",
   "metadata": {},
   "outputs": [],
   "source": [
    "import os\n",
    "import numpy as np\n",
    "import torch\n",
    "import glob\n",
    "import torch.nn as nn\n",
    "from torchvision.transforms import transforms\n",
    "from torch.utils.data import DataLoader\n",
    "from torch.optim import Adam\n",
    "from torch.autograd import Variable\n",
    "from torchvision import datasets, transforms, models\n",
    "import pathlib"
   ]
  },
  {
   "cell_type": "markdown",
   "id": "eed07a68-bd03-4136-bd5a-b61dc15816ee",
   "metadata": {},
   "source": [
    "# Checking for device "
   ]
  },
  {
   "cell_type": "code",
   "execution_count": 4,
   "id": "e7fa3d17-f9bc-41da-b872-4cb9307356ef",
   "metadata": {},
   "outputs": [
    {
     "name": "stdout",
     "output_type": "stream",
     "text": [
      "cpu\n"
     ]
    }
   ],
   "source": [
    "device = torch.device('cuda' if torch.cuda.is_available() else 'cpu')\n",
    "print(device)"
   ]
  },
  {
   "cell_type": "markdown",
   "id": "28e70b0e-c00e-4180-9f9b-6ff656be70ae",
   "metadata": {},
   "source": [
    "# Data loading"
   ]
  },
  {
   "cell_type": "code",
   "execution_count": 5,
   "id": "5994470f-d897-4c49-af05-b17f4665e3c7",
   "metadata": {},
   "outputs": [],
   "source": [
    "data_transformer = transforms.Compose([\n",
    "    transforms.Resize((150,150)),\n",
    "    transforms.RandomHorizontalFlip(),\n",
    "    transforms.ToTensor(),\n",
    "    transforms.Normalize([0.5,0.5,0.5], [0.5,0.5,0.5])\n",
    "])"
   ]
  },
  {
   "cell_type": "code",
   "execution_count": 6,
   "id": "40bb2353-0a14-4e35-a94e-9612fdd0c036",
   "metadata": {},
   "outputs": [],
   "source": [
    "train_path='./seg_train/seg_train'\n",
    "test_path='./seg_test/seg_test'\n",
    "\n",
    "train_loader= DataLoader(datasets.ImageFolder(train_path,transform=data_transformer), batch_size=64, shuffle=True)\n",
    "test_loader= DataLoader(datasets.ImageFolder(test_path,transform=data_transformer), batch_size=32, shuffle=True)"
   ]
  },
  {
   "cell_type": "code",
   "execution_count": 7,
   "id": "4a06010a-1b95-45f6-8bbe-6a2acc2fdc24",
   "metadata": {},
   "outputs": [
    {
     "name": "stdout",
     "output_type": "stream",
     "text": [
      "['buildings', 'forest', 'glacier', 'mountain', 'sea', 'street']\n"
     ]
    }
   ],
   "source": [
    "root = pathlib.Path(train_path)\n",
    "classes = sorted([j.name.split('/')[-1] for j in root.iterdir()])\n",
    "print(classes)"
   ]
  },
  {
   "cell_type": "markdown",
   "id": "200b56b4-c6c1-4c56-8677-69848fbdea9e",
   "metadata": {},
   "source": [
    "# CNN Network"
   ]
  },
  {
   "cell_type": "code",
   "execution_count": 9,
   "id": "14718462-2a9d-4fe9-8ceb-78c8357cc492",
   "metadata": {},
   "outputs": [],
   "source": [
    "class ConvNet(nn.Module):\n",
    "    def __init__(self, num_classes=6):\n",
    "        super(ConvNet, self).__init__()\n",
    "\n",
    "        # Output size after convolution filter\n",
    "        # ((w - f + 2P) / s) + 1\n",
    "        \n",
    "        # Inpit shape = (256, 3, 150, 150)\n",
    "        self.conv1 = nn.Conv2d(in_channels=3, out_channels=12, kernel_size=3, stride=1, padding=1)\n",
    "        # Shape (256, 12, 150, 150)\n",
    "        self.bn1 = nn.BatchNorm2d(num_features=12)\n",
    "        # Shape (256, 12, 150, 150)\n",
    "        self.relu1 = nn.ReLU()\n",
    "        # Shape (256, 12, 150, 150)\n",
    "\n",
    "        # Reudce the image size by factor of 2\n",
    "        self.pool = nn.MaxPool2d(kernel_size=2)\n",
    "        # Shape (256, 12, 75, 75)\n",
    "\n",
    "        self.conv1 = nn.Conv2d(in_channels=12, out_channels=20, kernel_size=3, stride=1, padding=1)\n",
    "        # Shape (256, 20, 75, 75)\n",
    "        self.relu2 = nn.ReLU()\n",
    "        # Shape (256, 20, 75, 75)\n",
    "\n",
    "        self.conv1 = nn.Conv2d(in_channels=20, out_channels=32, kernel_size=3, stride=1, padding=1)\n",
    "        # Shape (256, 32, 75, 75)\n",
    "        self.bn1 = nn.BatchNorm2d(num_features=12)\n",
    "        # Shape (256, 32, 75, 75)\n",
    "        self.relu1 = nn.ReLU()\n",
    "        # Shape (256, 32, 75, 75)\n",
    "\n",
    "        self.fc = nn.Linear(in_features=32*75*75, out_features=num_classes)\n",
    "\n",
    "        # Feed forward function \n",
    "        def forward(self,input):\n",
    "            output=self.conv1(input)\n",
    "            output=self.bn1(output)\n",
    "            output=self.relu1(output)\n",
    "                \n",
    "            output=self.pool(output)\n",
    "                \n",
    "            output=self.conv2(output)\n",
    "            output=self.relu2(output)\n",
    "                \n",
    "            output=self.conv3(output)\n",
    "            output=self.bn3(output)\n",
    "            output=self.relu3(output)\n",
    "                    \n",
    "            #Above output will be in matrix form, with shape (256,32,75,75)\n",
    "                \n",
    "            output=output.view(-1,32*75*75)\n",
    "                \n",
    "            output=self.fc(output)\n",
    "                \n",
    "            return output"
   ]
  },
  {
   "cell_type": "code",
   "execution_count": null,
   "id": "f9c662b8-1587-42fa-857e-650cc1963928",
   "metadata": {},
   "outputs": [],
   "source": [
    "model = ConvNet(num_classes=6).to(device)"
   ]
  }
 ],
 "metadata": {
  "kernelspec": {
   "display_name": "Python 3 (ipykernel)",
   "language": "python",
   "name": "python3"
  },
  "language_info": {
   "codemirror_mode": {
    "name": "ipython",
    "version": 3
   },
   "file_extension": ".py",
   "mimetype": "text/x-python",
   "name": "python",
   "nbconvert_exporter": "python",
   "pygments_lexer": "ipython3",
   "version": "3.12.0"
  }
 },
 "nbformat": 4,
 "nbformat_minor": 5
}
